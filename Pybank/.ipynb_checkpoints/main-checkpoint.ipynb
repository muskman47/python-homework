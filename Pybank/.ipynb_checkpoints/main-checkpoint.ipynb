{
 "cells": [
  {
   "cell_type": "markdown",
   "metadata": {},
   "source": [
    "## Matthew Musgrave - Python Homework - PyBank"
   ]
  },
  {
   "cell_type": "code",
   "execution_count": null,
   "metadata": {},
   "outputs": [],
   "source": [
    "# importing numpy, pandas, pathlib and sys:\n",
    "import numpy as np\n",
    "import pandas as pd\n",
    "from pathlib import Path\n",
    "import sys"
   ]
  },
  {
   "cell_type": "code",
   "execution_count": null,
   "metadata": {},
   "outputs": [],
   "source": [
    "# identifying the current path:\n",
    "print(f\"{Path.cwd()}\")"
   ]
  },
  {
   "cell_type": "code",
   "execution_count": null,
   "metadata": {},
   "outputs": [],
   "source": [
    "# Importing the csv file:\n",
    "import csv\n",
    "\n",
    "# set the file path using relative path:\n",
    "csvpath = Path(\"../PyBank/budget_data.csv\")\n",
    "\n",
    "# initializing listing of vraibles:\n",
    "total_months = 0\n",
    "net_profit = 0\n",
    "average_profit_change = 0\n",
    "max_profit_increase = 0\n",
    "max_profit_loss = 0\n",
    "max_month_increase = \"\"\n",
    "max_month_loss = \"\" "
   ]
  },
  {
   "cell_type": "code",
   "execution_count": null,
   "metadata": {},
   "outputs": [],
   "source": [
    "# open the CSV file as an object:\n",
    "with open(csvpath, 'r') as csvfile:\n",
    "    \n",
    "    # passing the CSV file into the CSV reader:\n",
    "    csvreader = csv.reader(csvfile, delimiter = ',')\n",
    "    \n",
    "    # reading the header within the CSV file which will allow data to start counting after header line:\n",
    "    header = next(csvfile)\n",
    "    \n",
    "    # iterate through data to arrive at total months & net profit:\n",
    "    for row in csvreader:\n",
    "        total_months += 1\n",
    "        net_profit += int(row[1])       "
   ]
  },
  {
   "cell_type": "code",
   "execution_count": null,
   "metadata": {},
   "outputs": [],
   "source": [
    "# passing the CSV file into the pandas CSV reader:\n",
    "dr = pd.read_csv(csvpath)\n",
    "\n",
    "# inputting data reader (dr) into data frame:\n",
    "df = pd.DataFrame(dr)\n",
    "\n",
    "# creating 'Difference' column and calulating dataframe.diff on data in CSV and adding result to 'Difference' column:\n",
    "df['Difference'] = df['Profit/Losses'].diff(1)\n",
    "\n",
    "# summing and counting the rows of data within the difference column and storing in sum_column & count_column variables:\n",
    "sum_column = df['Difference'].sum()\n",
    "count_column = df['Difference'].count()\n",
    "\n",
    "# performing the average profit change calculation and storing in variable:\n",
    "average_profit_change = round(sum_column / count_column,2)\n",
    "\n",
    "# identifying max profit increase and max profit loss from 'Difference' and storing in variables respectively:\n",
    "max_profit_increase = df['Difference'].max()\n",
    "max_profit_loss = df['Difference'].min()\n",
    "\n",
    "# isolating date from row with max & min difference values and assigning specific max/min dates to separate variables:\n",
    "m = df.loc[df['Difference'] == df['Difference'].max()]\n",
    "mi = df.loc[df['Difference'] == df['Difference'].min()]\n",
    "max_month_increase = m['Date'].values[0]\n",
    "max_month_loss = mi['Date'].values[0]"
   ]
  },
  {
   "cell_type": "code",
   "execution_count": null,
   "metadata": {},
   "outputs": [],
   "source": [
    "# printing resulting financial analysis into terminal view and writing to .txt, notepad file:\n",
    "sys.std = open(\"FinancialAnalysis.txt\", \"w\")\n",
    "\n",
    "print(f\"Financial Analysis\\n----------------------------\\n\\\n",
    "Total Months: {total_months}\\n\\\n",
    "Total: ${net_profit}\\n\\\n",
    "Average Change: ${average_profit_change}\\n\\\n",
    "Greatest Increase in Profits: {max_month_increase} (${max_profit_increase})\\n\\\n",
    "Greatest Decrease in Profits: {max_month_loss} (${max_profit_loss})\")\n",
    "\n",
    "sys.std.close()"
   ]
  }
 ],
 "metadata": {
  "kernelspec": {
   "display_name": "Python 3",
   "language": "python",
   "name": "python3"
  },
  "language_info": {
   "codemirror_mode": {
    "name": "ipython",
    "version": 3
   },
   "file_extension": ".py",
   "mimetype": "text/x-python",
   "name": "python",
   "nbconvert_exporter": "python",
   "pygments_lexer": "ipython3",
   "version": "3.8.3"
  }
 },
 "nbformat": 4,
 "nbformat_minor": 4
}
