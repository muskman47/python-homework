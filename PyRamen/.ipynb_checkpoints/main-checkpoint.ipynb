{
 "cells": [
  {
   "cell_type": "markdown",
   "metadata": {},
   "source": [
    "## Matthew Musgrave - Python Homework - PyRamen"
   ]
  },
  {
   "cell_type": "code",
   "execution_count": 8,
   "metadata": {},
   "outputs": [],
   "source": [
    "# importing libraries and functions that will assist with the analysis\n",
    "import numpy as np\n",
    "import pandas as pd\n",
    "from pathlib import Path\n",
    "import sys\n",
    "import csv"
   ]
  },
  {
   "cell_type": "code",
   "execution_count": 9,
   "metadata": {},
   "outputs": [
    {
     "name": "stdout",
     "output_type": "stream",
     "text": [
      "C:\\Users\\Matthew\\Documents\\Columbia_Boot_Camp\\python-homework\\PyRamen\n"
     ]
    }
   ],
   "source": [
    "# identifying the current path:\n",
    "print(f\"{Path.cwd()}\")"
   ]
  },
  {
   "cell_type": "code",
   "execution_count": 10,
   "metadata": {},
   "outputs": [],
   "source": [
    "# initializing menu list variable:\n",
    "menu = []\n",
    "\n",
    "# setting the file path using relative path:\n",
    "csvpath = Path(\"../PyRamen/Resources/menu_data.csv\")\n",
    "\n",
    "# opening CSV file and assigning to csvmenu variable:\n",
    "with open(csvpath, 'r') as csvfile:\n",
    "    csvmenu = csv.reader(csvfile, delimiter = ',')\n",
    "    \n",
    "    # skipping the header row of the csvfile:\n",
    "    header = next(csvmenu)\n",
    "    \n",
    "    # looping over contents of 'csvmenu' and appending to menu list:\n",
    "    for rows in csvmenu:\n",
    "        menu.append(rows)"
   ]
  },
  {
   "cell_type": "code",
   "execution_count": 11,
   "metadata": {},
   "outputs": [],
   "source": [
    "# initializing sales list variable:\n",
    "sales = []\n",
    "\n",
    "# setting the file path using relative path:\n",
    "csvpath = Path(\"../PyRamen/Resources/sales_data.csv\")\n",
    "\n",
    "# opening CSV file and assigning to csvsales variable:\n",
    "with open(csvpath, 'r') as csvfile:\n",
    "    csvsales = csv.reader(csvfile, delimiter = ',')\n",
    "    \n",
    "    # skipping the header row of the csvfile:\n",
    "    header = next(csvsales)\n",
    "    \n",
    "    # looping over contents of 'csvsales' and appending to sales list:\n",
    "    for rows in csvsales:\n",
    "        sales.append(rows)"
   ]
  },
  {
   "cell_type": "code",
   "execution_count": null,
   "metadata": {},
   "outputs": [],
   "source": [
    "# initializing 'report' dictionary:\n",
    "report = {}\n",
    "\n"
   ]
  }
 ],
 "metadata": {
  "kernelspec": {
   "display_name": "Python 3",
   "language": "python",
   "name": "python3"
  },
  "language_info": {
   "codemirror_mode": {
    "name": "ipython",
    "version": 3
   },
   "file_extension": ".py",
   "mimetype": "text/x-python",
   "name": "python",
   "nbconvert_exporter": "python",
   "pygments_lexer": "ipython3",
   "version": "3.8.3"
  }
 },
 "nbformat": 4,
 "nbformat_minor": 4
}
