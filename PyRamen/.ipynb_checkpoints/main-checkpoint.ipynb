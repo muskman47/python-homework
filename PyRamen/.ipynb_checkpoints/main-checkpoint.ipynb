{
 "cells": [
  {
   "cell_type": "markdown",
   "metadata": {},
   "source": [
    "## Matthew Musgrave - Python Homework - PyRamen"
   ]
  },
  {
   "cell_type": "code",
   "execution_count": 1,
   "metadata": {},
   "outputs": [],
   "source": [
    "# importing libraries and functions that will assist with the analysis\n",
    "import numpy as np\n",
    "import pandas as pd\n",
    "from pathlib import Path\n",
    "import sys\n",
    "import csv"
   ]
  },
  {
   "cell_type": "code",
   "execution_count": 2,
   "metadata": {},
   "outputs": [
    {
     "name": "stdout",
     "output_type": "stream",
     "text": [
      "C:\\Users\\Matthew\\Documents\\Columbia_Boot_Camp\\python-homework\\PyRamen\n"
     ]
    }
   ],
   "source": [
    "# identifying the current path:\n",
    "print(f\"{Path.cwd()}\")"
   ]
  },
  {
   "cell_type": "code",
   "execution_count": 3,
   "metadata": {},
   "outputs": [],
   "source": [
    "# initializing menu list:\n",
    "menu = []\n",
    "\n",
    "# setting the file path using relative path:\n",
    "csvmenu = Path(\"../PyRamen/Resources/menu_data.csv\")\n",
    "\n",
    "# opening CSV file and assigning to csvmenu variable:\n",
    "with open(csvmenu, 'r') as csvfile:\n",
    "    csvmenu_read = csv.reader(csvfile, delimiter = ',')\n",
    "    \n",
    "    # skipping the header row of the csvfile:\n",
    "    header = next(csvmenu_read)\n",
    "    \n",
    "    # looping over contents of 'csvmenu' and appending to menu list:\n",
    "    for rows in csvmenu_read:\n",
    "        menu.append(rows)"
   ]
  },
  {
   "cell_type": "code",
   "execution_count": 4,
   "metadata": {},
   "outputs": [],
   "source": [
    "# initializing sales list:\n",
    "sales = []\n",
    "\n",
    "# setting the file path using relative path:\n",
    "csvsales = Path(\"../PyRamen/Resources/sales_data.csv\")\n",
    "\n",
    "# opening CSV file and assigning to csvsales variable:\n",
    "with open(csvsales, 'r') as csvfile:\n",
    "    csvsales_read = csv.reader(csvfile, delimiter = ',')\n",
    "    \n",
    "    # skipping the header row of the csvfile:\n",
    "    header = next(csvsales_read)\n",
    "    \n",
    "    # looping over contents of 'csvsales' and appending to sales list:\n",
    "    for rows in csvsales_read:\n",
    "        sales.append(rows)"
   ]
  },
  {
   "cell_type": "code",
   "execution_count": 97,
   "metadata": {},
   "outputs": [
    {
     "data": {
      "text/html": [
       "<div>\n",
       "<style scoped>\n",
       "    .dataframe tbody tr th:only-of-type {\n",
       "        vertical-align: middle;\n",
       "    }\n",
       "\n",
       "    .dataframe tbody tr th {\n",
       "        vertical-align: top;\n",
       "    }\n",
       "\n",
       "    .dataframe thead th {\n",
       "        text-align: right;\n",
       "    }\n",
       "</style>\n",
       "<table border=\"1\" class=\"dataframe\">\n",
       "  <thead>\n",
       "    <tr style=\"text-align: right;\">\n",
       "      <th></th>\n",
       "      <th>Line_Item_ID</th>\n",
       "      <th>Credit_Card_Number</th>\n",
       "      <th>Quantity</th>\n",
       "      <th>price</th>\n",
       "      <th>cost</th>\n",
       "    </tr>\n",
       "  </thead>\n",
       "  <tbody>\n",
       "    <tr>\n",
       "      <th>count</th>\n",
       "      <td>74124.000000</td>\n",
       "      <td>7.412400e+04</td>\n",
       "      <td>74124.000000</td>\n",
       "      <td>74124.000000</td>\n",
       "      <td>74124.000000</td>\n",
       "    </tr>\n",
       "    <tr>\n",
       "      <th>mean</th>\n",
       "      <td>37062.500000</td>\n",
       "      <td>4.987993e+15</td>\n",
       "      <td>1.350521</td>\n",
       "      <td>12.639145</td>\n",
       "      <td>5.907264</td>\n",
       "    </tr>\n",
       "    <tr>\n",
       "      <th>std</th>\n",
       "      <td>21397.900014</td>\n",
       "      <td>2.883384e+15</td>\n",
       "      <td>0.789305</td>\n",
       "      <td>1.066947</td>\n",
       "      <td>0.792424</td>\n",
       "    </tr>\n",
       "    <tr>\n",
       "      <th>min</th>\n",
       "      <td>1.000000</td>\n",
       "      <td>1.637593e+11</td>\n",
       "      <td>1.000000</td>\n",
       "      <td>11.000000</td>\n",
       "      <td>5.000000</td>\n",
       "    </tr>\n",
       "    <tr>\n",
       "      <th>25%</th>\n",
       "      <td>18531.750000</td>\n",
       "      <td>2.498660e+15</td>\n",
       "      <td>1.000000</td>\n",
       "      <td>12.000000</td>\n",
       "      <td>5.000000</td>\n",
       "    </tr>\n",
       "    <tr>\n",
       "      <th>50%</th>\n",
       "      <td>37062.500000</td>\n",
       "      <td>4.993348e+15</td>\n",
       "      <td>1.000000</td>\n",
       "      <td>13.000000</td>\n",
       "      <td>6.000000</td>\n",
       "    </tr>\n",
       "    <tr>\n",
       "      <th>75%</th>\n",
       "      <td>55593.250000</td>\n",
       "      <td>7.468494e+15</td>\n",
       "      <td>1.000000</td>\n",
       "      <td>14.000000</td>\n",
       "      <td>7.000000</td>\n",
       "    </tr>\n",
       "    <tr>\n",
       "      <th>max</th>\n",
       "      <td>74124.000000</td>\n",
       "      <td>9.999826e+15</td>\n",
       "      <td>4.000000</td>\n",
       "      <td>14.000000</td>\n",
       "      <td>7.000000</td>\n",
       "    </tr>\n",
       "  </tbody>\n",
       "</table>\n",
       "</div>"
      ],
      "text/plain": [
       "       Line_Item_ID  Credit_Card_Number      Quantity         price  \\\n",
       "count  74124.000000        7.412400e+04  74124.000000  74124.000000   \n",
       "mean   37062.500000        4.987993e+15      1.350521     12.639145   \n",
       "std    21397.900014        2.883384e+15      0.789305      1.066947   \n",
       "min        1.000000        1.637593e+11      1.000000     11.000000   \n",
       "25%    18531.750000        2.498660e+15      1.000000     12.000000   \n",
       "50%    37062.500000        4.993348e+15      1.000000     13.000000   \n",
       "75%    55593.250000        7.468494e+15      1.000000     14.000000   \n",
       "max    74124.000000        9.999826e+15      4.000000     14.000000   \n",
       "\n",
       "               cost  \n",
       "count  74124.000000  \n",
       "mean       5.907264  \n",
       "std        0.792424  \n",
       "min        5.000000  \n",
       "25%        5.000000  \n",
       "50%        6.000000  \n",
       "75%        7.000000  \n",
       "max        7.000000  "
      ]
     },
     "execution_count": 97,
     "metadata": {},
     "output_type": "execute_result"
    }
   ],
   "source": [
    "# initializing 'report' dictionary:\n",
    "report = {}\n",
    "\n",
    "# setting 'Quantity' & 'Menu_items' columns to varables:\n",
    "drs = pd.read_csv(csvsales)\n",
    "dfs = pd.DataFrame(drs)\n",
    "sales_quantity = dfs['Quantity']\n",
    "sales_menu_item = dfs['Menu_Item']\n",
    "\n",
    "# initializing the key-value pairs for the particular `sales_item` in the report.\n",
    "sales_item = {'01-count': 0, '02-revenue': 0, '03-cogs': 0, '04-profit': 0}\n",
    "report['sales_item'] = sales_item\n",
    "\n",
    "# Assigning rows in 'Item', 'Price' and 'cost' columns to variables:\n",
    "drm = pd.read_csv(csvmenu)\n",
    "dfm = pd.DataFrame(drm)\n",
    "menu_item = dfm['item']\n",
    "menu_price = dfm['price']\n",
    "menu_cost = dfm['cost']\n",
    "\n",
    "# renaming column from 'item' to 'Menu_Item' to allow for merging:\n",
    "dfm = dfm.rename(columns={'item':'Menu_Item'})\n",
    "\n",
    "# merging dataframes using merge function and assigining to variable:\n",
    "df_merged = dfs.merge(dfm, left_on='Menu_Item', right_on='Menu_Item')\n",
    "\n",
    "#cacluating quantity, revenue, cost and profit of each menu_item:\n"
   ]
  },
  {
   "cell_type": "code",
   "execution_count": 95,
   "metadata": {},
   "outputs": [
    {
     "data": {
      "text/plain": [
       "{'sales_item': {'01-count': 0, '02-revenue': 0, '03-cogs': 0, '04-profit': 0}}"
      ]
     },
     "execution_count": 95,
     "metadata": {},
     "output_type": "execute_result"
    }
   ],
   "source": []
  },
  {
   "cell_type": "code",
   "execution_count": null,
   "metadata": {},
   "outputs": [],
   "source": []
  }
 ],
 "metadata": {
  "kernelspec": {
   "display_name": "Python 3",
   "language": "python",
   "name": "python3"
  },
  "language_info": {
   "codemirror_mode": {
    "name": "ipython",
    "version": 3
   },
   "file_extension": ".py",
   "mimetype": "text/x-python",
   "name": "python",
   "nbconvert_exporter": "python",
   "pygments_lexer": "ipython3",
   "version": "3.8.3"
  }
 },
 "nbformat": 4,
 "nbformat_minor": 4
}
