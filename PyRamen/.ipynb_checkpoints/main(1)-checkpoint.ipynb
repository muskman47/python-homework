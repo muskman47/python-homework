{
 "cells": [
  {
   "cell_type": "code",
   "execution_count": 1,
   "metadata": {},
   "outputs": [],
   "source": [
    "# importing libraries and functions that will assist with the analysis\n",
    "import numpy as np\n",
    "import pandas as pd\n",
    "from pathlib import Path\n",
    "import sys\n",
    "import csv"
   ]
  },
  {
   "cell_type": "code",
   "execution_count": 2,
   "metadata": {},
   "outputs": [
    {
     "name": "stdout",
     "output_type": "stream",
     "text": [
      "C:\\Users\\Matthew\\Documents\\Columbia_Boot_Camp\\python-homework\\PyRamen\n"
     ]
    }
   ],
   "source": [
    "# identifying the current path:\n",
    "print(f\"{Path.cwd()}\")"
   ]
  },
  {
   "cell_type": "code",
   "execution_count": 3,
   "metadata": {},
   "outputs": [],
   "source": [
    "# initializing menu list:\n",
    "menu = []\n",
    "\n",
    "# setting the file path using relative path:\n",
    "csvmenu = Path(\"../PyRamen/Resources/menu_data.csv\")\n",
    "\n",
    "# opening CSV file and assigning to csvmenu variable:\n",
    "with open(csvmenu, 'r') as csvfile:\n",
    "    csvmenu_read = csv.reader(csvfile, delimiter = ',')\n",
    "    \n",
    "    # skipping the header row of the csvfile:\n",
    "    header = next(csvmenu_read)\n",
    "    \n",
    "    # looping over contents of 'csvmenu' and appending to menu list:\n",
    "    for rows in csvmenu_read:\n",
    "        menu.append(rows)"
   ]
  },
  {
   "cell_type": "code",
   "execution_count": 4,
   "metadata": {},
   "outputs": [],
   "source": [
    "# initializing sales list:\n",
    "sales = []\n",
    "\n",
    "# setting the file path using relative path:\n",
    "csvsales = Path(\"../PyRamen/Resources/sales_data.csv\")\n",
    "\n",
    "# opening CSV file and assigning to csvsales variable:\n",
    "with open(csvsales, 'r') as csvfile:\n",
    "    csvsales_read = csv.reader(csvfile, delimiter = ',')\n",
    "    \n",
    "    # skipping the header row of the csvfile:\n",
    "    header = next(csvsales_read)\n",
    "    \n",
    "    # looping over contents of 'csvsales' and appending to sales list:\n",
    "    for rows in csvsales_read:\n",
    "        sales.append(rows)"
   ]
  },
  {
   "cell_type": "code",
   "execution_count": 42,
   "metadata": {},
   "outputs": [],
   "source": [
    "# initializing 'report' dictionary & Variables:\n",
    "report = {}\n",
    "sales_quantity = 0\n",
    "sales_menu_item = ''\n",
    "menu_item = ''\n",
    "menu_price = 0\n",
    "menu_cost = 0\n",
    "\n",
    "# looping through sales data and assigning 'Quantity' and 'Menu_item' to their own variables:\n",
    "for rows in sales:\n",
    "    sales_quantity = rows[3]\n",
    "    sales_menu_item = rows[4]    \n",
    "\n",
    "# initializing the key-value pairs for the particular `sales_item` in the report.\n",
    "sales_item = {'01-count': 0, '02-revenue': 0, '03-cogs': 0, '04-profit': 0}\n",
    "report['sales_item'] = sales_item\n",
    "\n",
    "# looping through menu data and assigning 'item' 'price' and 'cost' to their own variables:\n",
    "for rows in menu:\n",
    "    menu_item = rows[0]\n",
    "    menu_price = rows[3]\n",
    "    menu_cost = rows[4]\n",
    "\n",
    "# If the `sales_item` in sales is equal to the `item` in `menu`, capture the `quantity` from the sales \n",
    "# data and the `price` and `cost` from the menu data to calculate the `profit` for each item.\n",
    "while sales_menu_item in sales == menu_item in menu:\n",
    "    for rows in sales:\n",
    "        sales_quantity = rows[3]\n",
    "    for rows in menu:\n",
    "        menu_price = rows[3]\n",
    "        menu_cost = rows[4]\n",
    "\n",
    "sales_item['01-count'] = sales_quantity"
   ]
  },
  {
   "cell_type": "code",
   "execution_count": 43,
   "metadata": {},
   "outputs": [
    {
     "name": "stdout",
     "output_type": "stream",
     "text": [
      "{'01-count': '2', '02-revenue': 0, '03-cogs': 0, '04-profit': 0}\n"
     ]
    }
   ],
   "source": [
    "print(sales_item)"
   ]
  },
  {
   "cell_type": "code",
   "execution_count": null,
   "metadata": {},
   "outputs": [],
   "source": []
  }
 ],
 "metadata": {
  "kernelspec": {
   "display_name": "Python 3",
   "language": "python",
   "name": "python3"
  },
  "language_info": {
   "codemirror_mode": {
    "name": "ipython",
    "version": 3
   },
   "file_extension": ".py",
   "mimetype": "text/x-python",
   "name": "python",
   "nbconvert_exporter": "python",
   "pygments_lexer": "ipython3",
   "version": "3.8.3"
  }
 },
 "nbformat": 4,
 "nbformat_minor": 4
}
